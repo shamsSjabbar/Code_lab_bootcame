{
  "nbformat": 4,
  "nbformat_minor": 0,
  "metadata": {
    "colab": {
      "name": "Assigment_01.ipynb",
      "provenance": [],
      "collapsed_sections": []
    },
    "kernelspec": {
      "name": "python3",
      "display_name": "Python 3"
    }
  },
  "cells": [
    {
      "cell_type": "code",
      "metadata": {
        "colab": {
          "base_uri": "https://localhost:8080/",
          "height": 402
        },
        "id": "847kl3Bhl02b",
        "outputId": "e2903371-cfbc-4994-a772-c2a34a2f6a34"
      },
      "source": [
        "import numpy as np\n",
        "import pandas as pd\n",
        "import matplotlib.pyplot as plt\n",
        "csv_reading=pd.read_csv('/content/employees.csv')\n",
        "csv_reading"
      ],
      "execution_count": null,
      "outputs": [
        {
          "output_type": "execute_result",
          "data": {
            "text/html": [
              "<div>\n",
              "<style scoped>\n",
              "    .dataframe tbody tr th:only-of-type {\n",
              "        vertical-align: middle;\n",
              "    }\n",
              "\n",
              "    .dataframe tbody tr th {\n",
              "        vertical-align: top;\n",
              "    }\n",
              "\n",
              "    .dataframe thead th {\n",
              "        text-align: right;\n",
              "    }\n",
              "</style>\n",
              "<table border=\"1\" class=\"dataframe\">\n",
              "  <thead>\n",
              "    <tr style=\"text-align: right;\">\n",
              "      <th></th>\n",
              "      <th>First Name</th>\n",
              "      <th>Gender</th>\n",
              "      <th>Salary</th>\n",
              "      <th>Bonus %</th>\n",
              "      <th>Team</th>\n",
              "    </tr>\n",
              "  </thead>\n",
              "  <tbody>\n",
              "    <tr>\n",
              "      <th>0</th>\n",
              "      <td>Douglas</td>\n",
              "      <td>Male</td>\n",
              "      <td>97308.0</td>\n",
              "      <td>6.945</td>\n",
              "      <td>Marketing</td>\n",
              "    </tr>\n",
              "    <tr>\n",
              "      <th>1</th>\n",
              "      <td>Thomas</td>\n",
              "      <td>Male</td>\n",
              "      <td>61933.0</td>\n",
              "      <td>4.170</td>\n",
              "      <td>Others</td>\n",
              "    </tr>\n",
              "    <tr>\n",
              "      <th>2</th>\n",
              "      <td>Maria</td>\n",
              "      <td>Female</td>\n",
              "      <td>130590.0</td>\n",
              "      <td>11.858</td>\n",
              "      <td>Finance</td>\n",
              "    </tr>\n",
              "    <tr>\n",
              "      <th>3</th>\n",
              "      <td>Jerry</td>\n",
              "      <td>Male</td>\n",
              "      <td>138705.0</td>\n",
              "      <td>9.340</td>\n",
              "      <td>Finance</td>\n",
              "    </tr>\n",
              "    <tr>\n",
              "      <th>4</th>\n",
              "      <td>Larry</td>\n",
              "      <td>Male</td>\n",
              "      <td>101004.0</td>\n",
              "      <td>1.389</td>\n",
              "      <td>Client Services</td>\n",
              "    </tr>\n",
              "    <tr>\n",
              "      <th>...</th>\n",
              "      <td>...</td>\n",
              "      <td>...</td>\n",
              "      <td>...</td>\n",
              "      <td>...</td>\n",
              "      <td>...</td>\n",
              "    </tr>\n",
              "    <tr>\n",
              "      <th>94</th>\n",
              "      <td>Harry</td>\n",
              "      <td>Male</td>\n",
              "      <td>130620.0</td>\n",
              "      <td>7.030</td>\n",
              "      <td>Legal</td>\n",
              "    </tr>\n",
              "    <tr>\n",
              "      <th>95</th>\n",
              "      <td>Heather</td>\n",
              "      <td>Female</td>\n",
              "      <td>43026.0</td>\n",
              "      <td>14.166</td>\n",
              "      <td>Client Services</td>\n",
              "    </tr>\n",
              "    <tr>\n",
              "      <th>96</th>\n",
              "      <td>Cynthia</td>\n",
              "      <td>Female</td>\n",
              "      <td>142321.0</td>\n",
              "      <td>1.737</td>\n",
              "      <td>Finance</td>\n",
              "    </tr>\n",
              "    <tr>\n",
              "      <th>97</th>\n",
              "      <td>Laura</td>\n",
              "      <td>Female</td>\n",
              "      <td>140371.0</td>\n",
              "      <td>10.620</td>\n",
              "      <td>Marketing</td>\n",
              "    </tr>\n",
              "    <tr>\n",
              "      <th>98</th>\n",
              "      <td>Tina</td>\n",
              "      <td>Female</td>\n",
              "      <td>100705.0</td>\n",
              "      <td>16.961</td>\n",
              "      <td>Marketing</td>\n",
              "    </tr>\n",
              "  </tbody>\n",
              "</table>\n",
              "<p>99 rows × 5 columns</p>\n",
              "</div>"
            ],
            "text/plain": [
              "   First Name  Gender    Salary  Bonus %             Team\n",
              "0     Douglas    Male   97308.0    6.945        Marketing\n",
              "1      Thomas    Male   61933.0    4.170           Others\n",
              "2       Maria  Female  130590.0   11.858          Finance\n",
              "3       Jerry    Male  138705.0    9.340          Finance\n",
              "4       Larry    Male  101004.0    1.389  Client Services\n",
              "..        ...     ...       ...      ...              ...\n",
              "94      Harry    Male  130620.0    7.030            Legal\n",
              "95    Heather  Female   43026.0   14.166  Client Services\n",
              "96    Cynthia  Female  142321.0    1.737          Finance\n",
              "97      Laura  Female  140371.0   10.620        Marketing\n",
              "98       Tina  Female  100705.0   16.961        Marketing\n",
              "\n",
              "[99 rows x 5 columns]"
            ]
          },
          "metadata": {
            "tags": []
          },
          "execution_count": 3
        }
      ]
    },
    {
      "cell_type": "code",
      "metadata": {
        "colab": {
          "base_uri": "https://localhost:8080/"
        },
        "id": "TG1MIVYXmCqY",
        "outputId": "3bd2d0a7-8590-4bf3-d86e-0a108f580259"
      },
      "source": [
        "csv_reading.drop('First Name',inplace=True,axis=1)\n",
        "print(csv_reading)"
      ],
      "execution_count": null,
      "outputs": [
        {
          "output_type": "stream",
          "text": [
            "    Gender    Salary  Bonus %             Team\n",
            "0     Male   97308.0    6.945        Marketing\n",
            "1     Male   61933.0    4.170           Others\n",
            "2   Female  130590.0   11.858          Finance\n",
            "3     Male  138705.0    9.340          Finance\n",
            "4     Male  101004.0    1.389  Client Services\n",
            "..     ...       ...      ...              ...\n",
            "94    Male  130620.0    7.030            Legal\n",
            "95  Female   43026.0   14.166  Client Services\n",
            "96  Female  142321.0    1.737          Finance\n",
            "97  Female  140371.0   10.620        Marketing\n",
            "98  Female  100705.0   16.961        Marketing\n",
            "\n",
            "[99 rows x 4 columns]\n"
          ],
          "name": "stdout"
        }
      ]
    },
    {
      "cell_type": "code",
      "metadata": {
        "colab": {
          "base_uri": "https://localhost:8080/"
        },
        "id": "VoGy_NjjmNzJ",
        "outputId": "76cb8fdd-4473-4162-b204-79ca0a1a506e"
      },
      "source": [
        "csv_reading.Salary.fillna(int(csv_reading.Salary.mean()),inplace=True)\n",
        "print(csv_reading)"
      ],
      "execution_count": null,
      "outputs": [
        {
          "output_type": "stream",
          "text": [
            "    Gender    Salary  Bonus %             Team\n",
            "0     Male   97308.0    6.945        Marketing\n",
            "1     Male   61933.0    4.170           Others\n",
            "2   Female  130590.0   11.858          Finance\n",
            "3     Male  138705.0    9.340          Finance\n",
            "4     Male  101004.0    1.389  Client Services\n",
            "..     ...       ...      ...              ...\n",
            "94    Male  130620.0    7.030            Legal\n",
            "95  Female   43026.0   14.166  Client Services\n",
            "96  Female  142321.0    1.737          Finance\n",
            "97  Female  140371.0   10.620        Marketing\n",
            "98  Female  100705.0   16.961        Marketing\n",
            "\n",
            "[99 rows x 4 columns]\n"
          ],
          "name": "stdout"
        }
      ]
    },
    {
      "cell_type": "code",
      "metadata": {
        "colab": {
          "base_uri": "https://localhost:8080/"
        },
        "id": "pT9XjsCDmUXE",
        "outputId": "d36cd612-3102-457e-9097-10a45bc231d9"
      },
      "source": [
        "csv_reading.rename(columns={'Bonus %': 'Bonus'},inplace=True)\n",
        "print(csv_reading)"
      ],
      "execution_count": null,
      "outputs": [
        {
          "output_type": "stream",
          "text": [
            "    Gender    Salary   Bonus             Team\n",
            "0     Male   97308.0   6.945        Marketing\n",
            "1     Male   61933.0   4.170           Others\n",
            "2   Female  130590.0  11.858          Finance\n",
            "3     Male  138705.0   9.340          Finance\n",
            "4     Male  101004.0   1.389  Client Services\n",
            "..     ...       ...     ...              ...\n",
            "94    Male  130620.0   7.030            Legal\n",
            "95  Female   43026.0  14.166  Client Services\n",
            "96  Female  142321.0   1.737          Finance\n",
            "97  Female  140371.0  10.620        Marketing\n",
            "98  Female  100705.0  16.961        Marketing\n",
            "\n",
            "[99 rows x 4 columns]\n"
          ],
          "name": "stdout"
        }
      ]
    },
    {
      "cell_type": "code",
      "metadata": {
        "id": "C2qMAV_a_Vqj"
      },
      "source": [
        "csv_reading.Bonus.fillna(csv_reading.Bonus.mean(),inplace=True)"
      ],
      "execution_count": null,
      "outputs": []
    },
    {
      "cell_type": "code",
      "metadata": {
        "colab": {
          "base_uri": "https://localhost:8080/"
        },
        "id": "FzoLVicgALQi",
        "outputId": "0cf1f3ad-5ebd-4dca-d1aa-33fe03ecded6"
      },
      "source": [
        "csv_reading.isna().sum()"
      ],
      "execution_count": null,
      "outputs": [
        {
          "output_type": "execute_result",
          "data": {
            "text/plain": [
              "Gender    0\n",
              "Salary    0\n",
              "Bonus     0\n",
              "Team      0\n",
              "dtype: int64"
            ]
          },
          "metadata": {
            "tags": []
          },
          "execution_count": 15
        }
      ]
    },
    {
      "cell_type": "code",
      "metadata": {
        "colab": {
          "base_uri": "https://localhost:8080/"
        },
        "id": "2zX5CsCFme2Q",
        "outputId": "58ab0d78-bc52-4a1d-ff66-ed4ad32f193c"
      },
      "source": [
        "length=len(csv_reading)\n",
        "for i in range(length):\n",
        "  if(csv_reading.Gender.iloc[i]=='Female'):\n",
        "    csv_reading.Gender.iloc[i]=0\n",
        "  else:\n",
        "    csv_reading.Gender.iloc[i]=1\n",
        "print(csv_reading)"
      ],
      "execution_count": null,
      "outputs": [
        {
          "output_type": "stream",
          "text": [
            "   Gender    Salary   Bonus             Team\n",
            "0       1   97308.0   6.945        Marketing\n",
            "1       1   61933.0   4.170           Others\n",
            "2       0  130590.0  11.858          Finance\n",
            "3       1  138705.0   9.340          Finance\n",
            "4       1  101004.0   1.389  Client Services\n",
            "..    ...       ...     ...              ...\n",
            "94      1  130620.0   7.030            Legal\n",
            "95      0   43026.0  14.166  Client Services\n",
            "96      0  142321.0   1.737          Finance\n",
            "97      0  140371.0  10.620        Marketing\n",
            "98      0  100705.0  16.961        Marketing\n",
            "\n",
            "[99 rows x 4 columns]\n"
          ],
          "name": "stdout"
        },
        {
          "output_type": "stream",
          "text": [
            "/usr/local/lib/python3.6/dist-packages/pandas/core/indexing.py:670: SettingWithCopyWarning: \n",
            "A value is trying to be set on a copy of a slice from a DataFrame\n",
            "\n",
            "See the caveats in the documentation: https://pandas.pydata.org/pandas-docs/stable/user_guide/indexing.html#returning-a-view-versus-a-copy\n",
            "  iloc._setitem_with_indexer(indexer, value)\n"
          ],
          "name": "stderr"
        }
      ]
    },
    {
      "cell_type": "code",
      "metadata": {
        "colab": {
          "base_uri": "https://localhost:8080/"
        },
        "id": "eFHRiLFKA3z9",
        "outputId": "0dbe1083-43c1-40eb-a491-ac3a44d6c394"
      },
      "source": [
        "teams = csv_reading.Team.unique()\n",
        "teams"
      ],
      "execution_count": null,
      "outputs": [
        {
          "output_type": "execute_result",
          "data": {
            "text/plain": [
              "array(['Marketing', 'Others', 'Finance', 'Client Services', 'Legal',\n",
              "       'Product', 'Engineering', 'Business Development',\n",
              "       'Human Resources', 'Sales', 'Distribution'], dtype=object)"
            ]
          },
          "metadata": {
            "tags": []
          },
          "execution_count": 16
        }
      ]
    },
    {
      "cell_type": "code",
      "metadata": {
        "id": "vMGs9nVcA_Ho"
      },
      "source": [
        "team_dict={}\n",
        "team_dict_rev={}\n"
      ],
      "execution_count": null,
      "outputs": []
    },
    {
      "cell_type": "code",
      "metadata": {
        "colab": {
          "base_uri": "https://localhost:8080/"
        },
        "id": "wghtN1x4BMvH",
        "outputId": "3b0159db-2d45-4315-cf8d-de9356c42724"
      },
      "source": [
        "for index,team in enumerate(teams):\n",
        "  team_dict[team]=index\n",
        "  team_dict_rev[index]=team\n",
        "  \n",
        "print(team_dict)\n",
        "print('-'*40)\n",
        "print(team_dict_rev)\n"
      ],
      "execution_count": null,
      "outputs": [
        {
          "output_type": "stream",
          "text": [
            "{'Marketing': 0, 'Others': 1, 'Finance': 2, 'Client Services': 3, 'Legal': 4, 'Product': 5, 'Engineering': 6, 'Business Development': 7, 'Human Resources': 8, 'Sales': 9, 'Distribution': 10}\n",
            "----------------------------------------\n",
            "{0: 'Marketing', 1: 'Others', 2: 'Finance', 3: 'Client Services', 4: 'Legal', 5: 'Product', 6: 'Engineering', 7: 'Business Development', 8: 'Human Resources', 9: 'Sales', 10: 'Distribution'}\n"
          ],
          "name": "stdout"
        }
      ]
    },
    {
      "cell_type": "code",
      "metadata": {
        "id": "fX53e_tyCRLf"
      },
      "source": [
        "csv_reading.Team.replace(team_dict,inplace=True)"
      ],
      "execution_count": null,
      "outputs": []
    },
    {
      "cell_type": "code",
      "metadata": {
        "colab": {
          "base_uri": "https://localhost:8080/",
          "height": 402
        },
        "id": "UtFjPIWbCd_x",
        "outputId": "e4442b09-a91c-456f-c3e2-e29ebd219b4b"
      },
      "source": [
        "csv_reading.Team.replace(team_dict_rev,inplace=True)\n",
        "csv_reading.Team.replace(team_dict,inplace=True)\n",
        "csv_reading"
      ],
      "execution_count": null,
      "outputs": [
        {
          "output_type": "execute_result",
          "data": {
            "text/html": [
              "<div>\n",
              "<style scoped>\n",
              "    .dataframe tbody tr th:only-of-type {\n",
              "        vertical-align: middle;\n",
              "    }\n",
              "\n",
              "    .dataframe tbody tr th {\n",
              "        vertical-align: top;\n",
              "    }\n",
              "\n",
              "    .dataframe thead th {\n",
              "        text-align: right;\n",
              "    }\n",
              "</style>\n",
              "<table border=\"1\" class=\"dataframe\">\n",
              "  <thead>\n",
              "    <tr style=\"text-align: right;\">\n",
              "      <th></th>\n",
              "      <th>Gender</th>\n",
              "      <th>Salary</th>\n",
              "      <th>Bonus</th>\n",
              "      <th>Team</th>\n",
              "    </tr>\n",
              "  </thead>\n",
              "  <tbody>\n",
              "    <tr>\n",
              "      <th>0</th>\n",
              "      <td>1</td>\n",
              "      <td>97308.0</td>\n",
              "      <td>6.945</td>\n",
              "      <td>0</td>\n",
              "    </tr>\n",
              "    <tr>\n",
              "      <th>1</th>\n",
              "      <td>1</td>\n",
              "      <td>61933.0</td>\n",
              "      <td>4.170</td>\n",
              "      <td>1</td>\n",
              "    </tr>\n",
              "    <tr>\n",
              "      <th>2</th>\n",
              "      <td>0</td>\n",
              "      <td>130590.0</td>\n",
              "      <td>11.858</td>\n",
              "      <td>2</td>\n",
              "    </tr>\n",
              "    <tr>\n",
              "      <th>3</th>\n",
              "      <td>1</td>\n",
              "      <td>138705.0</td>\n",
              "      <td>9.340</td>\n",
              "      <td>2</td>\n",
              "    </tr>\n",
              "    <tr>\n",
              "      <th>4</th>\n",
              "      <td>1</td>\n",
              "      <td>101004.0</td>\n",
              "      <td>1.389</td>\n",
              "      <td>3</td>\n",
              "    </tr>\n",
              "    <tr>\n",
              "      <th>...</th>\n",
              "      <td>...</td>\n",
              "      <td>...</td>\n",
              "      <td>...</td>\n",
              "      <td>...</td>\n",
              "    </tr>\n",
              "    <tr>\n",
              "      <th>94</th>\n",
              "      <td>1</td>\n",
              "      <td>130620.0</td>\n",
              "      <td>7.030</td>\n",
              "      <td>4</td>\n",
              "    </tr>\n",
              "    <tr>\n",
              "      <th>95</th>\n",
              "      <td>0</td>\n",
              "      <td>43026.0</td>\n",
              "      <td>14.166</td>\n",
              "      <td>3</td>\n",
              "    </tr>\n",
              "    <tr>\n",
              "      <th>96</th>\n",
              "      <td>0</td>\n",
              "      <td>142321.0</td>\n",
              "      <td>1.737</td>\n",
              "      <td>2</td>\n",
              "    </tr>\n",
              "    <tr>\n",
              "      <th>97</th>\n",
              "      <td>0</td>\n",
              "      <td>140371.0</td>\n",
              "      <td>10.620</td>\n",
              "      <td>0</td>\n",
              "    </tr>\n",
              "    <tr>\n",
              "      <th>98</th>\n",
              "      <td>0</td>\n",
              "      <td>100705.0</td>\n",
              "      <td>16.961</td>\n",
              "      <td>0</td>\n",
              "    </tr>\n",
              "  </tbody>\n",
              "</table>\n",
              "<p>99 rows × 4 columns</p>\n",
              "</div>"
            ],
            "text/plain": [
              "   Gender    Salary   Bonus  Team\n",
              "0       1   97308.0   6.945     0\n",
              "1       1   61933.0   4.170     1\n",
              "2       0  130590.0  11.858     2\n",
              "3       1  138705.0   9.340     2\n",
              "4       1  101004.0   1.389     3\n",
              "..    ...       ...     ...   ...\n",
              "94      1  130620.0   7.030     4\n",
              "95      0   43026.0  14.166     3\n",
              "96      0  142321.0   1.737     2\n",
              "97      0  140371.0  10.620     0\n",
              "98      0  100705.0  16.961     0\n",
              "\n",
              "[99 rows x 4 columns]"
            ]
          },
          "metadata": {
            "tags": []
          },
          "execution_count": 28
        }
      ]
    },
    {
      "cell_type": "code",
      "metadata": {
        "colab": {
          "base_uri": "https://localhost:8080/"
        },
        "id": "KrU-Q_tSmsdD",
        "outputId": "ef284ca3-bb3f-434d-f26a-64de9443f400"
      },
      "source": [
        "for i in range(length):\n",
        "  if(csv_reading.Team.iloc[i]=='Marketing'):\n",
        "    csv_reading.Team.iloc[i]=0\n",
        "  elif(csv_reading.Team.iloc[i]=='Others'):\n",
        "    csv_reading.Team.iloc[i]=1\n",
        "  elif(csv_reading.Team.iloc[i]=='Finance'):\n",
        "    csv_reading.Team.iloc[i]=2\n",
        "  elif(csv_reading.Team.iloc[i]=='Client Services'):\n",
        "    csv_reading.Team.iloc[i]=3\n",
        "  else:\n",
        "     csv_reading.Team.iloc[i]=4\n",
        "print(csv_reading)"
      ],
      "execution_count": null,
      "outputs": [
        {
          "output_type": "stream",
          "text": [
            "   Gender    Salary  Bonus % Team\n",
            "0       1   97308.0    6.945    0\n",
            "1       1   61933.0    4.170    1\n",
            "2       0  130590.0   11.858    2\n",
            "3       1  138705.0    9.340    2\n",
            "4       1  101004.0    1.389    3\n",
            "..    ...       ...      ...  ...\n",
            "94      1  130620.0    7.030    4\n",
            "95      0   43026.0   14.166    3\n",
            "96      0  142321.0    1.737    2\n",
            "97      0  140371.0   10.620    0\n",
            "98      0  100705.0   16.961    0\n",
            "\n",
            "[99 rows x 4 columns]\n"
          ],
          "name": "stdout"
        },
        {
          "output_type": "stream",
          "text": [
            "/usr/local/lib/python3.6/dist-packages/pandas/core/indexing.py:670: SettingWithCopyWarning: \n",
            "A value is trying to be set on a copy of a slice from a DataFrame\n",
            "\n",
            "See the caveats in the documentation: https://pandas.pydata.org/pandas-docs/stable/user_guide/indexing.html#returning-a-view-versus-a-copy\n",
            "  iloc._setitem_with_indexer(indexer, value)\n"
          ],
          "name": "stderr"
        }
      ]
    },
    {
      "cell_type": "code",
      "metadata": {
        "id": "vZrqBPl_Aclc"
      },
      "source": [
        ""
      ],
      "execution_count": null,
      "outputs": []
    },
    {
      "cell_type": "code",
      "metadata": {
        "colab": {
          "base_uri": "https://localhost:8080/",
          "height": 346
        },
        "id": "OZSXrkF0m8H9",
        "outputId": "3ede4867-6388-4093-d55d-84aa95da5a61"
      },
      "source": [
        "plot=csv_reading[['Team']].head().plot.bar()\n",
        "plot.set_xticklabels(csv_reading.Team)"
      ],
      "execution_count": null,
      "outputs": [
        {
          "output_type": "execute_result",
          "data": {
            "text/plain": [
              "[Text(0, 0, '0'),\n",
              " Text(0, 0, '1'),\n",
              " Text(0, 0, '2'),\n",
              " Text(0, 0, '2'),\n",
              " Text(0, 0, '3')]"
            ]
          },
          "metadata": {
            "tags": []
          },
          "execution_count": 7
        },
        {
          "output_type": "display_data",
          "data": {
            "image/png": "[encoded data removed]",
            "text/plain": [
              "<Figure size 432x288 with 1 Axes>"
            ]
          },
          "metadata": {
            "tags": [],
            "needs_background": "light"
          }
        }
      ]
    },
    {
      "cell_type": "code",
      "metadata": {
        "id": "pFwyFOEeoY3r"
      },
      "source": [
        "csv_reading.to_csv('Assigment_1.csv',header=True,index=False)"
      ],
      "execution_count": null,
      "outputs": []
    },
    {
      "cell_type": "code",
      "metadata": {
        "colab": {
          "base_uri": "https://localhost:8080/",
          "height": 402
        },
        "id": "ySLAr6Ykon9o",
        "outputId": "144a4331-d6b6-4019-ad0b-177d10da03cb"
      },
      "source": [
        "assigment=pd.read_csv('/content/Assigment_1.csv')\n",
        "assigment"
      ],
      "execution_count": null,
      "outputs": [
        {
          "output_type": "execute_result",
          "data": {
            "text/html": [
              "<div>\n",
              "<style scoped>\n",
              "    .dataframe tbody tr th:only-of-type {\n",
              "        vertical-align: middle;\n",
              "    }\n",
              "\n",
              "    .dataframe tbody tr th {\n",
              "        vertical-align: top;\n",
              "    }\n",
              "\n",
              "    .dataframe thead th {\n",
              "        text-align: right;\n",
              "    }\n",
              "</style>\n",
              "<table border=\"1\" class=\"dataframe\">\n",
              "  <thead>\n",
              "    <tr style=\"text-align: right;\">\n",
              "      <th></th>\n",
              "      <th>Gender</th>\n",
              "      <th>Salary</th>\n",
              "      <th>Bonus</th>\n",
              "      <th>Team</th>\n",
              "    </tr>\n",
              "  </thead>\n",
              "  <tbody>\n",
              "    <tr>\n",
              "      <th>0</th>\n",
              "      <td>1</td>\n",
              "      <td>97308.0</td>\n",
              "      <td>6.945</td>\n",
              "      <td>0</td>\n",
              "    </tr>\n",
              "    <tr>\n",
              "      <th>1</th>\n",
              "      <td>1</td>\n",
              "      <td>61933.0</td>\n",
              "      <td>4.170</td>\n",
              "      <td>1</td>\n",
              "    </tr>\n",
              "    <tr>\n",
              "      <th>2</th>\n",
              "      <td>0</td>\n",
              "      <td>130590.0</td>\n",
              "      <td>11.858</td>\n",
              "      <td>2</td>\n",
              "    </tr>\n",
              "    <tr>\n",
              "      <th>3</th>\n",
              "      <td>1</td>\n",
              "      <td>138705.0</td>\n",
              "      <td>9.340</td>\n",
              "      <td>2</td>\n",
              "    </tr>\n",
              "    <tr>\n",
              "      <th>4</th>\n",
              "      <td>1</td>\n",
              "      <td>101004.0</td>\n",
              "      <td>1.389</td>\n",
              "      <td>3</td>\n",
              "    </tr>\n",
              "    <tr>\n",
              "      <th>...</th>\n",
              "      <td>...</td>\n",
              "      <td>...</td>\n",
              "      <td>...</td>\n",
              "      <td>...</td>\n",
              "    </tr>\n",
              "    <tr>\n",
              "      <th>94</th>\n",
              "      <td>1</td>\n",
              "      <td>130620.0</td>\n",
              "      <td>7.030</td>\n",
              "      <td>4</td>\n",
              "    </tr>\n",
              "    <tr>\n",
              "      <th>95</th>\n",
              "      <td>0</td>\n",
              "      <td>43026.0</td>\n",
              "      <td>14.166</td>\n",
              "      <td>3</td>\n",
              "    </tr>\n",
              "    <tr>\n",
              "      <th>96</th>\n",
              "      <td>0</td>\n",
              "      <td>142321.0</td>\n",
              "      <td>1.737</td>\n",
              "      <td>2</td>\n",
              "    </tr>\n",
              "    <tr>\n",
              "      <th>97</th>\n",
              "      <td>0</td>\n",
              "      <td>140371.0</td>\n",
              "      <td>10.620</td>\n",
              "      <td>0</td>\n",
              "    </tr>\n",
              "    <tr>\n",
              "      <th>98</th>\n",
              "      <td>0</td>\n",
              "      <td>100705.0</td>\n",
              "      <td>16.961</td>\n",
              "      <td>0</td>\n",
              "    </tr>\n",
              "  </tbody>\n",
              "</table>\n",
              "<p>99 rows × 4 columns</p>\n",
              "</div>"
            ],
            "text/plain": [
              "    Gender    Salary   Bonus  Team\n",
              "0        1   97308.0   6.945     0\n",
              "1        1   61933.0   4.170     1\n",
              "2        0  130590.0  11.858     2\n",
              "3        1  138705.0   9.340     2\n",
              "4        1  101004.0   1.389     3\n",
              "..     ...       ...     ...   ...\n",
              "94       1  130620.0   7.030     4\n",
              "95       0   43026.0  14.166     3\n",
              "96       0  142321.0   1.737     2\n",
              "97       0  140371.0  10.620     0\n",
              "98       0  100705.0  16.961     0\n",
              "\n",
              "[99 rows x 4 columns]"
            ]
          },
          "metadata": {
            "tags": []
          },
          "execution_count": 30
        }
      ]
    }
  ]
}