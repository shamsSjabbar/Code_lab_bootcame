{
  "nbformat": 4,
  "nbformat_minor": 0,
  "metadata": {
    "colab": {
      "name": "Assignment_05",
      "provenance": [],
      "collapsed_sections": [],
      "toc_visible": true
    },
    "kernelspec": {
      "name": "python3",
      "display_name": "Python 3"
    },
    "accelerator": "GPU"
  },
  "cells": [
    {
      "cell_type": "markdown",
      "metadata": {
        "id": "FWGC2IsbjeCo"
      },
      "source": [
        "#FCN(Fully Connected Network)"
      ]
    },
    {
      "cell_type": "markdown",
      "metadata": {
        "id": "PJCOjFCc3ROa"
      },
      "source": [
        "##Builted model_1"
      ]
    },
    {
      "cell_type": "markdown",
      "metadata": {
        "id": "NzD3daBj3N1Y"
      },
      "source": [
        "###Load dataset & Split"
      ]
    },
    {
      "cell_type": "code",
      "metadata": {
        "id": "JSnG9peWXXg2"
      },
      "source": [
        "import matplotlib.pyplot as plt\n",
        "import tensorflow as tf\n",
        "import pandas as pd"
      ],
      "execution_count": null,
      "outputs": []
    },
    {
      "cell_type": "code",
      "metadata": {
        "id": "dPvyZx_mjc7K"
      },
      "source": [
        "tf.random.set_seed(42)"
      ],
      "execution_count": null,
      "outputs": []
    },
    {
      "cell_type": "code",
      "metadata": {
        "id": "w2e0m3_nkL_0"
      },
      "source": [
        "(x_train,y_train),(x_test,y_test)=tf.keras.datasets.fashion_mnist.load_data()"
      ],
      "execution_count": null,
      "outputs": []
    },
    {
      "cell_type": "code",
      "metadata": {
        "colab": {
          "base_uri": "https://localhost:8080/"
        },
        "id": "IM8B2GT5kS6g",
        "outputId": "f68d6c5b-b3e9-4b8f-b658-3caf5f55f898"
      },
      "source": [
        "print('x_train:',x_train.shape)\n",
        "print('y_train:',y_train.shape)\n",
        "print('x_test:',x_test.shape)\n",
        "print('y_test:',y_test.shape)\n",
        "x_train.max()"
      ],
      "execution_count": null,
      "outputs": [
        {
          "output_type": "stream",
          "text": [
            "x_train: (60000, 28, 28)\n",
            "y_train: (60000,)\n",
            "x_test: (10000, 28, 28)\n",
            "y_test: (10000,)\n"
          ],
          "name": "stdout"
        },
        {
          "output_type": "execute_result",
          "data": {
            "text/plain": [
              "255"
            ]
          },
          "metadata": {
            "tags": []
          },
          "execution_count": 106
        }
      ]
    },
    {
      "cell_type": "code",
      "metadata": {
        "id": "_k6I5AJhkZEX"
      },
      "source": [
        "x_train,x_test=x_train/255.0,x_test/255.0"
      ],
      "execution_count": null,
      "outputs": []
    },
    {
      "cell_type": "code",
      "metadata": {
        "id": "ZKBU8U9wlXV9"
      },
      "source": [
        "x_train,x_test=x_train.reshape(-1,28*28),x_test.reshape(-1,28*28)"
      ],
      "execution_count": null,
      "outputs": []
    },
    {
      "cell_type": "code",
      "metadata": {
        "colab": {
          "base_uri": "https://localhost:8080/"
        },
        "id": "j88YKspclesa",
        "outputId": "60363791-8f59-4a65-e843-a4d32c1f311b"
      },
      "source": [
        "print(\"x_train.shape:\",x_train.shape)\n",
        "print(\"y_train.shape:\",y_train.shape)"
      ],
      "execution_count": null,
      "outputs": [
        {
          "output_type": "stream",
          "text": [
            "x_train.shape: (60000, 784)\n",
            "y_train.shape: (60000,)\n"
          ],
          "name": "stdout"
        }
      ]
    },
    {
      "cell_type": "code",
      "metadata": {
        "id": "sJPMz_aXlkAN"
      },
      "source": [
        "y_train=tf.one_hot(y_train,depth=10)\n",
        "y_test=tf.one_hot(y_test,depth=10)\n"
      ],
      "execution_count": null,
      "outputs": []
    },
    {
      "cell_type": "code",
      "metadata": {
        "colab": {
          "base_uri": "https://localhost:8080/"
        },
        "id": "UI0_ay2ir4As",
        "outputId": "d79f52eb-3d7b-461d-c2a7-e409fd15d9a4"
      },
      "source": [
        "print(\"y_train.shape:\",y_train.shape)\n",
        "print(\"y_test.shape:\",y_test.shape)"
      ],
      "execution_count": null,
      "outputs": [
        {
          "output_type": "stream",
          "text": [
            "y_train.shape: (60000, 10)\n",
            "y_test.shape: (10000, 10)\n"
          ],
          "name": "stdout"
        }
      ]
    },
    {
      "cell_type": "markdown",
      "metadata": {
        "id": "GMKmYczF3lZ7"
      },
      "source": [
        "###Create model_1"
      ]
    },
    {
      "cell_type": "code",
      "metadata": {
        "id": "wa6UYJnemiw-"
      },
      "source": [
        "model_1=tf.keras.Sequential(\n",
        "    \n",
        "    [ tf.keras.layers.Input(shape=[784]),\n",
        "     tf.keras.layers.Dense(256,activation=tf.nn.leaky_relu),\n",
        "     tf.keras.layers.Dropout(0.1),\n",
        "     tf.keras.layers.Dense(128,activation=tf.nn.leaky_relu),\n",
        "     tf.keras.layers.Dropout(0.1),\n",
        "     tf.keras.layers.Dense(64,activation=tf.nn.leaky_relu),\n",
        "     tf.keras.layers.Dropout(0.1),\n",
        "     tf.keras.layers.Dense(32,activation=tf.nn.leaky_relu),\n",
        "     tf.keras.layers.Dropout(0.1),\n",
        "     tf.keras.layers.Dense(32,activation=tf.nn.leaky_relu),\n",
        "     \n",
        "     tf.keras.layers.Dense(10,activation=tf.nn.softmax)\n",
        "     ]\n",
        ")"
      ],
      "execution_count": null,
      "outputs": []
    },
    {
      "cell_type": "code",
      "metadata": {
        "id": "5fMcJs3JnbTR",
        "colab": {
          "base_uri": "https://localhost:8080/"
        },
        "outputId": "561f20f4-9fee-472f-ed88-e9c0aff8c8a4"
      },
      "source": [
        "model_1.summary()"
      ],
      "execution_count": null,
      "outputs": [
        {
          "output_type": "stream",
          "text": [
            "Model: \"sequential_5\"\n",
            "_________________________________________________________________\n",
            "Layer (type)                 Output Shape              Param #   \n",
            "=================================================================\n",
            "dense_22 (Dense)             (None, 256)               200960    \n",
            "_________________________________________________________________\n",
            "dropout_12 (Dropout)         (None, 256)               0         \n",
            "_________________________________________________________________\n",
            "dense_23 (Dense)             (None, 128)               32896     \n",
            "_________________________________________________________________\n",
            "dropout_13 (Dropout)         (None, 128)               0         \n",
            "_________________________________________________________________\n",
            "dense_24 (Dense)             (None, 64)                8256      \n",
            "_________________________________________________________________\n",
            "dropout_14 (Dropout)         (None, 64)                0         \n",
            "_________________________________________________________________\n",
            "dense_25 (Dense)             (None, 32)                2080      \n",
            "_________________________________________________________________\n",
            "dropout_15 (Dropout)         (None, 32)                0         \n",
            "_________________________________________________________________\n",
            "dense_26 (Dense)             (None, 32)                1056      \n",
            "_________________________________________________________________\n",
            "dense_27 (Dense)             (None, 10)                330       \n",
            "=================================================================\n",
            "Total params: 245,578\n",
            "Trainable params: 245,578\n",
            "Non-trainable params: 0\n",
            "_________________________________________________________________\n"
          ],
          "name": "stdout"
        }
      ]
    },
    {
      "cell_type": "code",
      "metadata": {
        "id": "_4QRnKFNnTwh"
      },
      "source": [
        "model_1.compile(optimizer=tf.optimizers.Adam(),loss=tf.losses.CategoricalCrossentropy(),metrics=['acc'])"
      ],
      "execution_count": null,
      "outputs": []
    },
    {
      "cell_type": "markdown",
      "metadata": {
        "id": "XNu9FN_B3vFM"
      },
      "source": [
        "###Train & Predict & find accuracy\n",
        "\n"
      ]
    },
    {
      "cell_type": "code",
      "metadata": {
        "colab": {
          "base_uri": "https://localhost:8080/"
        },
        "id": "LBDPFOaOnjoe",
        "outputId": "3041b98e-e947-4341-ce13-1a31b1255948"
      },
      "source": [
        "model_1.fit(x_train,y_train,epochs=10,batch_size=32,validation_data=(x_test,y_test))"
      ],
      "execution_count": null,
      "outputs": [
        {
          "output_type": "stream",
          "text": [
            "Epoch 1/10\n",
            "1875/1875 [==============================] - 6s 3ms/step - loss: 0.7597 - acc: 0.7219 - val_loss: 0.4604 - val_acc: 0.8299\n",
            "Epoch 2/10\n",
            "1875/1875 [==============================] - 6s 3ms/step - loss: 0.4239 - acc: 0.8460 - val_loss: 0.4243 - val_acc: 0.8461\n",
            "Epoch 3/10\n",
            "1875/1875 [==============================] - 5s 3ms/step - loss: 0.3914 - acc: 0.8560 - val_loss: 0.4218 - val_acc: 0.8430\n",
            "Epoch 4/10\n",
            "1875/1875 [==============================] - 6s 3ms/step - loss: 0.3691 - acc: 0.8676 - val_loss: 0.3961 - val_acc: 0.8566\n",
            "Epoch 5/10\n",
            "1875/1875 [==============================] - 6s 3ms/step - loss: 0.3535 - acc: 0.8699 - val_loss: 0.3714 - val_acc: 0.8632\n",
            "Epoch 6/10\n",
            "1875/1875 [==============================] - 6s 3ms/step - loss: 0.3382 - acc: 0.8763 - val_loss: 0.3762 - val_acc: 0.8608\n",
            "Epoch 7/10\n",
            "1875/1875 [==============================] - 6s 3ms/step - loss: 0.3252 - acc: 0.8801 - val_loss: 0.3885 - val_acc: 0.8587\n",
            "Epoch 8/10\n",
            "1875/1875 [==============================] - 5s 3ms/step - loss: 0.3166 - acc: 0.8843 - val_loss: 0.3595 - val_acc: 0.8707\n",
            "Epoch 9/10\n",
            "1875/1875 [==============================] - 6s 3ms/step - loss: 0.3112 - acc: 0.8847 - val_loss: 0.3422 - val_acc: 0.8784\n",
            "Epoch 10/10\n",
            "1875/1875 [==============================] - 6s 3ms/step - loss: 0.3027 - acc: 0.8872 - val_loss: 0.3454 - val_acc: 0.8774\n"
          ],
          "name": "stdout"
        },
        {
          "output_type": "execute_result",
          "data": {
            "text/plain": [
              "<tensorflow.python.keras.callbacks.History at 0x7fa171c82fd0>"
            ]
          },
          "metadata": {
            "tags": []
          },
          "execution_count": 114
        }
      ]
    },
    {
      "cell_type": "code",
      "metadata": {
        "id": "OqPb1LQf63F-"
      },
      "source": [
        "hist_info_1=model_1.history.history"
      ],
      "execution_count": null,
      "outputs": []
    },
    {
      "cell_type": "code",
      "metadata": {
        "colab": {
          "base_uri": "https://localhost:8080/"
        },
        "id": "wO5x854-7Uvf",
        "outputId": "4a36d6c3-6d42-4af9-a82f-8c1eeda24ba2"
      },
      "source": [
        "pf_1=pd.DataFrame(hist_info_1)\n",
        "pf_1['acc'].mean()"
      ],
      "execution_count": null,
      "outputs": [
        {
          "output_type": "execute_result",
          "data": {
            "text/plain": [
              "0.8650316774845124"
            ]
          },
          "metadata": {
            "tags": []
          },
          "execution_count": 116
        }
      ]
    },
    {
      "cell_type": "code",
      "metadata": {
        "colab": {
          "base_uri": "https://localhost:8080/"
        },
        "id": "D2wSRse07tEM",
        "outputId": "e4751ff7-2932-4410-9ba1-8e729545f61a"
      },
      "source": [
        "pf_1['val_acc'].mean()"
      ],
      "execution_count": null,
      "outputs": [
        {
          "output_type": "execute_result",
          "data": {
            "text/plain": [
              "0.8584800004959107"
            ]
          },
          "metadata": {
            "tags": []
          },
          "execution_count": 117
        }
      ]
    },
    {
      "cell_type": "code",
      "metadata": {
        "colab": {
          "base_uri": "https://localhost:8080/",
          "height": 282
        },
        "id": "6BPbtyJs72J-",
        "outputId": "5b4e2071-fab9-49fa-a2da-ed47ec8930be"
      },
      "source": [
        "pf_1[['acc','val_acc']].plot.line()"
      ],
      "execution_count": null,
      "outputs": [
        {
          "output_type": "execute_result",
          "data": {
            "text/plain": [
              "<matplotlib.axes._subplots.AxesSubplot at 0x7fa171b212e8>"
            ]
          },
          "metadata": {
            "tags": []
          },
          "execution_count": 118
        },
        {
          "output_type": "display_data",
          "data": {
            "image/png": "[encoded data removed]",
            "text/plain": [
              "<Figure size 432x288 with 1 Axes>"
            ]
          },
          "metadata": {
            "tags": [],
            "needs_background": "light"
          }
        }
      ]
    },
    {
      "cell_type": "markdown",
      "metadata": {
        "id": "JEihPz3DjDr9"
      },
      "source": [
        "#CNN( Convolutional Neural Network )"
      ]
    },
    {
      "cell_type": "markdown",
      "metadata": {
        "id": "irjowsSP33ZX"
      },
      "source": [
        "##Builted model_2"
      ]
    },
    {
      "cell_type": "markdown",
      "metadata": {
        "id": "P5LDW0vZ3405"
      },
      "source": [
        "###Load dataset & Split"
      ]
    },
    {
      "cell_type": "code",
      "metadata": {
        "id": "PrZ9gkJXzvyF"
      },
      "source": [
        "import matplotlib.pyplot as plt\n",
        "import tensorflow as tf\n",
        "import pandas as pd\n"
      ],
      "execution_count": null,
      "outputs": []
    },
    {
      "cell_type": "code",
      "metadata": {
        "id": "NMKM16zDsTXH"
      },
      "source": [
        "tf.random.set_seed(42)"
      ],
      "execution_count": null,
      "outputs": []
    },
    {
      "cell_type": "code",
      "metadata": {
        "colab": {
          "base_uri": "https://localhost:8080/"
        },
        "id": "JGS8XlHbsY-w",
        "outputId": "09552dc3-006e-411d-8168-f29f53a46d2f"
      },
      "source": [
        "(x_train,y_train),(x_test,y_test)=tf.keras.datasets.fashion_mnist.load_data()\n",
        "print('Train: X=%s, y=%s' % (x_train.shape, y_train.shape))\n",
        "print('Test: X=%s, y=%s' % (x_test.shape, y_test.shape))\n",
        "y_train=tf.one_hot(y_train,depth=10)\n",
        "y_test=tf.one_hot(y_test,depth=10)\n",
        "y_train=tf.reshape(y_train,[-1,10])\n",
        "y_test=tf.reshape(y_test,[-1,10])\n",
        "print(y_train.shape ,\"\\n\",y_test.shape )\n"
      ],
      "execution_count": null,
      "outputs": [
        {
          "output_type": "stream",
          "text": [
            "Train: X=(60000, 28, 28), y=(60000,)\n",
            "Test: X=(10000, 28, 28), y=(10000,)\n",
            "(60000, 10) \n",
            " (10000, 10)\n"
          ],
          "name": "stdout"
        }
      ]
    },
    {
      "cell_type": "code",
      "metadata": {
        "colab": {
          "base_uri": "https://localhost:8080/",
          "height": 905
        },
        "id": "JWSlOd9M0ty6",
        "outputId": "64d36bec-3306-4a2b-cdab-523603e059db"
      },
      "source": [
        "class_names = ['T-shirt/top', 'Trouser', 'Pullover', 'Dress', 'Coat',\n",
        "               'Sandal', 'Shirt', 'Sneaker', 'Bag', '\tAnkle boot']\n",
        "\n",
        "plt.figure(figsize=(15,15))\n",
        "\n",
        "for i in range(25):\n",
        "  plt.subplot(5,5,i+1)\n",
        "  plt.xticks([])\n",
        "  plt.yticks([])\n",
        "  plt.grid(False)\n",
        "  plt.imshow(x_train[i],cmap=plt.get_cmap('gray'))\n",
        "  plt.xlabel(class_names[tf.argmax(y_train[i])])\n",
        "\n",
        "\n",
        "plt.show()\n"
      ],
      "execution_count": null,
      "outputs": [
        {
          "output_type": "stream",
          "text": [
            "/usr/local/lib/python3.6/dist-packages/matplotlib/backends/backend_agg.py:214: RuntimeWarning: Glyph 9 missing from current font.\n",
            "  font.set_text(s, 0.0, flags=flags)\n",
            "/usr/local/lib/python3.6/dist-packages/matplotlib/backends/backend_agg.py:183: RuntimeWarning: Glyph 9 missing from current font.\n",
            "  font.set_text(s, 0, flags=flags)\n"
          ],
          "name": "stderr"
        },
        {
          "output_type": "display_data",
          "data": {
            "image/png": "[encoded data removed]",
            "text/plain": [
              "<Figure size 1080x1080 with 25 Axes>"
            ]
          },
          "metadata": {
            "tags": []
          }
        }
      ]
    },
    {
      "cell_type": "code",
      "metadata": {
        "colab": {
          "base_uri": "https://localhost:8080/"
        },
        "id": "00TpcFFJtU1I",
        "outputId": "340eb0f6-f75d-4d32-cf55-f13049cef435"
      },
      "source": [
        "x_train, x_test = x_train / 255.0, x_test / 255.0\n",
        "x_train = x_train.reshape((x_train.shape[0], 28, 28, 1))\n",
        "x_test = x_test.reshape((x_test.shape[0], 28, 28, 1))\n",
        "print(x_train.shape ,\"\\n\",x_test.shape )"
      ],
      "execution_count": null,
      "outputs": [
        {
          "output_type": "stream",
          "text": [
            "(60000, 28, 28, 1) \n",
            " (10000, 28, 28, 1)\n"
          ],
          "name": "stdout"
        }
      ]
    },
    {
      "cell_type": "code",
      "metadata": {
        "colab": {
          "base_uri": "https://localhost:8080/"
        },
        "id": "EUUp403ps3z_",
        "outputId": "acd2cae9-f40c-4c88-992a-b784967c871c"
      },
      "source": [
        "y_train=tf.reshape(y_train,[-1,10])\n",
        "y_test=tf.reshape(y_test,[-1,10])\n",
        "print(y_train.shape ,\"\\n\",y_test.shape )"
      ],
      "execution_count": null,
      "outputs": [
        {
          "output_type": "stream",
          "text": [
            "(60000, 10) \n",
            " (10000, 10)\n"
          ],
          "name": "stdout"
        }
      ]
    },
    {
      "cell_type": "code",
      "metadata": {
        "colab": {
          "base_uri": "https://localhost:8080/"
        },
        "id": "38Vd-ySZybVr",
        "outputId": "b1575bd7-92c4-405a-d520-efcdce92f2fd"
      },
      "source": [
        "print('x_train.shape:',x_train.shape,\"\\n\",'x_test.shape:',x_test.shape)\n",
        "print('y_train.shape:',y_train.shape,\"\\n\",'y_test.shape:',y_test.shape)"
      ],
      "execution_count": null,
      "outputs": [
        {
          "output_type": "stream",
          "text": [
            "x_train.shape: (60000, 28, 28, 1) \n",
            " x_test.shape: (10000, 28, 28, 1)\n",
            "y_train.shape: (60000, 10) \n",
            " y_test.shape: (10000, 10)\n"
          ],
          "name": "stdout"
        }
      ]
    },
    {
      "cell_type": "code",
      "metadata": {
        "id": "hMFngF_3m4RV"
      },
      "source": [
        "def images_pre_pro(images,labels):\n",
        "    images=tf.image.random_flip_left_right(images)\n",
        "    images=tf.image.random_flip_up_down(images)\n",
        "    images=tf.image.random_brightness(images,0.1)\n",
        "    images=tf.image.random_contrast(images,0.5,1.2)\n",
        "    images=tf.image.rot90(images,k=tf.random.shuffle([1,2,3,4])[0])\n",
        "    \n",
        "    images=tf.clip_by_value(images,0,1)\n",
        "    \n",
        "\n",
        "    return images,labels"
      ],
      "execution_count": null,
      "outputs": []
    },
    {
      "cell_type": "code",
      "metadata": {
        "id": "HmTZP3-9m61D"
      },
      "source": [
        "def dataset_creater(x,y,training=False):\n",
        "    data=tf.data.Dataset.from_tensor_slices((x,y))\n",
        "    data=data.shuffle(1028)\n",
        "    if training:\n",
        "        data=data.map(images_pre_pro,num_parallel_calls=tf.data.experimental.AUTOTUNE)\n",
        "    data=data.batch(32)\n",
        "    data=data.prefetch(tf.data.experimental.AUTOTUNE)\n",
        "    return data"
      ],
      "execution_count": null,
      "outputs": []
    },
    {
      "cell_type": "code",
      "metadata": {
        "id": "ZCAjFuNDoK7a"
      },
      "source": [
        "train_dataset=dataset_creater(x_train,y_train,training=True)\n",
        "test_dataset=dataset_creater(x_test,y_test)"
      ],
      "execution_count": null,
      "outputs": []
    },
    {
      "cell_type": "markdown",
      "metadata": {
        "id": "6ymxSRIb4dHH"
      },
      "source": [
        "###Create model_2"
      ]
    },
    {
      "cell_type": "code",
      "metadata": {
        "id": "8oahm8DY5NFL",
        "colab": {
          "base_uri": "https://localhost:8080/"
        },
        "outputId": "72b4baea-d553-4aae-a53b-03347e1d0f9d"
      },
      "source": [
        "model_2=tf.keras.Sequential(\n",
        "    [\n",
        "     tf.keras.layers.Input([28, 28, 1]),\n",
        "     tf.keras.layers.Conv2D(filters=32, kernel_size=3,padding='same',activation=tf.nn.relu),\n",
        "     tf.keras.layers.Conv2D(filters=64, kernel_size=3, padding='same', activation=tf.nn.relu),\n",
        "     tf.keras.layers.Conv2D(filters=128, kernel_size=3, padding='same', activation=tf.nn.relu),\n",
        "     tf.keras.layers.MaxPooling2D((2,2)),\n",
        "     tf.keras.layers.Flatten(),\n",
        "     tf.keras.layers.Dense(128,activation=tf.nn.relu),\n",
        "     tf.keras.layers.Dense(10,activation=tf.nn.softmax),\n",
        "     \n",
        "\n",
        "    ]\n",
        ")\n",
        "model_2.summary()"
      ],
      "execution_count": null,
      "outputs": [
        {
          "output_type": "stream",
          "text": [
            "Model: \"sequential_1\"\n",
            "_________________________________________________________________\n",
            "Layer (type)                 Output Shape              Param #   \n",
            "=================================================================\n",
            "conv2d_3 (Conv2D)            (None, 28, 28, 32)        320       \n",
            "_________________________________________________________________\n",
            "conv2d_4 (Conv2D)            (None, 28, 28, 64)        18496     \n",
            "_________________________________________________________________\n",
            "conv2d_5 (Conv2D)            (None, 28, 28, 128)       73856     \n",
            "_________________________________________________________________\n",
            "max_pooling2d_1 (MaxPooling2 (None, 14, 14, 128)       0         \n",
            "_________________________________________________________________\n",
            "flatten_1 (Flatten)          (None, 25088)             0         \n",
            "_________________________________________________________________\n",
            "dense_2 (Dense)              (None, 128)               3211392   \n",
            "_________________________________________________________________\n",
            "dense_3 (Dense)              (None, 10)                1290      \n",
            "=================================================================\n",
            "Total params: 3,305,354\n",
            "Trainable params: 3,305,354\n",
            "Non-trainable params: 0\n",
            "_________________________________________________________________\n"
          ],
          "name": "stdout"
        }
      ]
    },
    {
      "cell_type": "code",
      "metadata": {
        "id": "jX7g54C_X7d2"
      },
      "source": [
        "model_2.compile(optimizer=tf.optimizers.Adam(),loss=tf.losses.CategoricalCrossentropy(),metrics=['accuracy'])"
      ],
      "execution_count": null,
      "outputs": []
    },
    {
      "cell_type": "markdown",
      "metadata": {
        "id": "Gqeoujp24FGl"
      },
      "source": [
        "###Train & Predict & find accuracy\n",
        "\n"
      ]
    },
    {
      "cell_type": "code",
      "metadata": {
        "colab": {
          "base_uri": "https://localhost:8080/"
        },
        "id": "yVnnbkQZYZI-",
        "outputId": "965d9d82-7eb6-413e-f9c4-b03e8c882dfc"
      },
      "source": [
        "model_2.fit(train_dataset,epochs=50,batch_size=32,validation_data=(test_dataset))"
      ],
      "execution_count": null,
      "outputs": [
        {
          "output_type": "stream",
          "text": [
            "Epoch 1/50\n",
            "1875/1875 [==============================] - 16s 8ms/step - loss: 0.8265 - accuracy: 0.7146 - val_loss: 0.4261 - val_accuracy: 0.8528\n",
            "Epoch 2/50\n",
            "1875/1875 [==============================] - 15s 8ms/step - loss: 0.3820 - accuracy: 0.8649 - val_loss: 0.3678 - val_accuracy: 0.8747\n",
            "Epoch 3/50\n",
            "1875/1875 [==============================] - 15s 8ms/step - loss: 0.3209 - accuracy: 0.8846 - val_loss: 0.3009 - val_accuracy: 0.8939\n",
            "Epoch 4/50\n",
            "1875/1875 [==============================] - 15s 8ms/step - loss: 0.2834 - accuracy: 0.8979 - val_loss: 0.3061 - val_accuracy: 0.8946\n",
            "Epoch 5/50\n",
            "1875/1875 [==============================] - 15s 8ms/step - loss: 0.2573 - accuracy: 0.9077 - val_loss: 0.2877 - val_accuracy: 0.9014\n",
            "Epoch 6/50\n",
            "1875/1875 [==============================] - 15s 8ms/step - loss: 0.2481 - accuracy: 0.9087 - val_loss: 0.2598 - val_accuracy: 0.9084\n",
            "Epoch 7/50\n",
            "1875/1875 [==============================] - 15s 8ms/step - loss: 0.2276 - accuracy: 0.9173 - val_loss: 0.2879 - val_accuracy: 0.9009\n",
            "Epoch 8/50\n",
            "1875/1875 [==============================] - 15s 8ms/step - loss: 0.2141 - accuracy: 0.9222 - val_loss: 0.2696 - val_accuracy: 0.9061\n",
            "Epoch 9/50\n",
            "1875/1875 [==============================] - 15s 8ms/step - loss: 0.2035 - accuracy: 0.9267 - val_loss: 0.2878 - val_accuracy: 0.9024\n",
            "Epoch 10/50\n",
            "1875/1875 [==============================] - 15s 8ms/step - loss: 0.1921 - accuracy: 0.9316 - val_loss: 0.2593 - val_accuracy: 0.9115\n",
            "Epoch 11/50\n",
            "1875/1875 [==============================] - 15s 8ms/step - loss: 0.1838 - accuracy: 0.9354 - val_loss: 0.2629 - val_accuracy: 0.9112\n",
            "Epoch 12/50\n",
            "1875/1875 [==============================] - 15s 8ms/step - loss: 0.1737 - accuracy: 0.9371 - val_loss: 0.2774 - val_accuracy: 0.9080\n",
            "Epoch 13/50\n",
            "1875/1875 [==============================] - 15s 8ms/step - loss: 0.1696 - accuracy: 0.9386 - val_loss: 0.2582 - val_accuracy: 0.9130\n",
            "Epoch 14/50\n",
            "1875/1875 [==============================] - 15s 8ms/step - loss: 0.1569 - accuracy: 0.9445 - val_loss: 0.2712 - val_accuracy: 0.9053\n",
            "Epoch 15/50\n",
            "1875/1875 [==============================] - 15s 8ms/step - loss: 0.1534 - accuracy: 0.9439 - val_loss: 0.2702 - val_accuracy: 0.9085\n",
            "Epoch 16/50\n",
            "1875/1875 [==============================] - 15s 8ms/step - loss: 0.1503 - accuracy: 0.9467 - val_loss: 0.3023 - val_accuracy: 0.9101\n",
            "Epoch 17/50\n",
            "1875/1875 [==============================] - 15s 8ms/step - loss: 0.1442 - accuracy: 0.9504 - val_loss: 0.2764 - val_accuracy: 0.9155\n",
            "Epoch 18/50\n",
            "1875/1875 [==============================] - 15s 8ms/step - loss: 0.1341 - accuracy: 0.9529 - val_loss: 0.2711 - val_accuracy: 0.9135\n",
            "Epoch 19/50\n",
            "1875/1875 [==============================] - 15s 8ms/step - loss: 0.1338 - accuracy: 0.9520 - val_loss: 0.2866 - val_accuracy: 0.9108\n",
            "Epoch 20/50\n",
            "1875/1875 [==============================] - 15s 8ms/step - loss: 0.1259 - accuracy: 0.9548 - val_loss: 0.2853 - val_accuracy: 0.9126\n",
            "Epoch 21/50\n",
            "1875/1875 [==============================] - 15s 8ms/step - loss: 0.1232 - accuracy: 0.9570 - val_loss: 0.3210 - val_accuracy: 0.9095\n",
            "Epoch 22/50\n",
            "1875/1875 [==============================] - 15s 8ms/step - loss: 0.1183 - accuracy: 0.9582 - val_loss: 0.2769 - val_accuracy: 0.9167\n",
            "Epoch 23/50\n",
            "1875/1875 [==============================] - 15s 8ms/step - loss: 0.1127 - accuracy: 0.9600 - val_loss: 0.3054 - val_accuracy: 0.9090\n",
            "Epoch 24/50\n",
            "1875/1875 [==============================] - 15s 8ms/step - loss: 0.1113 - accuracy: 0.9607 - val_loss: 0.3286 - val_accuracy: 0.9103\n",
            "Epoch 25/50\n",
            "1875/1875 [==============================] - 15s 8ms/step - loss: 0.1133 - accuracy: 0.9603 - val_loss: 0.2993 - val_accuracy: 0.9131\n",
            "Epoch 26/50\n",
            "1875/1875 [==============================] - 15s 8ms/step - loss: 0.1047 - accuracy: 0.9638 - val_loss: 0.3068 - val_accuracy: 0.9167\n",
            "Epoch 27/50\n",
            "1875/1875 [==============================] - 15s 8ms/step - loss: 0.1025 - accuracy: 0.9649 - val_loss: 0.2966 - val_accuracy: 0.9149\n",
            "Epoch 28/50\n",
            "1875/1875 [==============================] - 15s 8ms/step - loss: 0.0988 - accuracy: 0.9664 - val_loss: 0.2927 - val_accuracy: 0.9135\n",
            "Epoch 29/50\n",
            "1875/1875 [==============================] - 15s 8ms/step - loss: 0.0948 - accuracy: 0.9672 - val_loss: 0.3248 - val_accuracy: 0.9123\n",
            "Epoch 30/50\n",
            "1875/1875 [==============================] - 15s 8ms/step - loss: 0.0933 - accuracy: 0.9672 - val_loss: 0.2974 - val_accuracy: 0.9138\n",
            "Epoch 31/50\n",
            "1875/1875 [==============================] - 15s 8ms/step - loss: 0.0954 - accuracy: 0.9675 - val_loss: 0.3282 - val_accuracy: 0.9180\n",
            "Epoch 32/50\n",
            "1875/1875 [==============================] - 15s 8ms/step - loss: 0.0911 - accuracy: 0.9687 - val_loss: 0.3396 - val_accuracy: 0.9121\n",
            "Epoch 33/50\n",
            "1875/1875 [==============================] - 15s 8ms/step - loss: 0.0909 - accuracy: 0.9679 - val_loss: 0.3244 - val_accuracy: 0.9145\n",
            "Epoch 34/50\n",
            "1875/1875 [==============================] - 15s 8ms/step - loss: 0.0840 - accuracy: 0.9709 - val_loss: 0.3655 - val_accuracy: 0.9142\n",
            "Epoch 35/50\n",
            "1875/1875 [==============================] - 15s 8ms/step - loss: 0.0863 - accuracy: 0.9702 - val_loss: 0.3570 - val_accuracy: 0.9138\n",
            "Epoch 36/50\n",
            "1875/1875 [==============================] - 15s 8ms/step - loss: 0.0808 - accuracy: 0.9722 - val_loss: 0.3480 - val_accuracy: 0.9098\n",
            "Epoch 37/50\n",
            "1875/1875 [==============================] - 15s 8ms/step - loss: 0.0767 - accuracy: 0.9726 - val_loss: 0.3771 - val_accuracy: 0.9150\n",
            "Epoch 38/50\n",
            "1875/1875 [==============================] - 15s 8ms/step - loss: 0.0739 - accuracy: 0.9750 - val_loss: 0.3724 - val_accuracy: 0.9115\n",
            "Epoch 39/50\n",
            "1875/1875 [==============================] - 15s 8ms/step - loss: 0.0688 - accuracy: 0.9773 - val_loss: 0.4095 - val_accuracy: 0.9085\n",
            "Epoch 40/50\n",
            "1875/1875 [==============================] - 15s 8ms/step - loss: 0.0717 - accuracy: 0.9761 - val_loss: 0.4278 - val_accuracy: 0.9085\n",
            "Epoch 41/50\n",
            "1875/1875 [==============================] - 15s 8ms/step - loss: 0.0667 - accuracy: 0.9773 - val_loss: 0.3873 - val_accuracy: 0.9080\n",
            "Epoch 42/50\n",
            "1875/1875 [==============================] - 15s 8ms/step - loss: 0.0706 - accuracy: 0.9758 - val_loss: 0.4314 - val_accuracy: 0.9107\n",
            "Epoch 43/50\n",
            "1875/1875 [==============================] - 15s 8ms/step - loss: 0.0671 - accuracy: 0.9775 - val_loss: 0.3708 - val_accuracy: 0.9096\n",
            "Epoch 44/50\n",
            "1875/1875 [==============================] - 15s 8ms/step - loss: 0.0653 - accuracy: 0.9772 - val_loss: 0.3882 - val_accuracy: 0.9115\n",
            "Epoch 45/50\n",
            "1875/1875 [==============================] - 15s 8ms/step - loss: 0.0651 - accuracy: 0.9772 - val_loss: 0.4008 - val_accuracy: 0.9116\n",
            "Epoch 46/50\n",
            "1875/1875 [==============================] - 15s 8ms/step - loss: 0.0655 - accuracy: 0.9776 - val_loss: 0.3929 - val_accuracy: 0.9140\n",
            "Epoch 47/50\n",
            "1875/1875 [==============================] - 15s 8ms/step - loss: 0.0617 - accuracy: 0.9792 - val_loss: 0.4083 - val_accuracy: 0.9117\n",
            "Epoch 48/50\n",
            "1875/1875 [==============================] - 15s 8ms/step - loss: 0.0649 - accuracy: 0.9782 - val_loss: 0.4070 - val_accuracy: 0.9132\n",
            "Epoch 49/50\n",
            "1875/1875 [==============================] - 15s 8ms/step - loss: 0.0607 - accuracy: 0.9791 - val_loss: 0.4628 - val_accuracy: 0.9186\n",
            "Epoch 50/50\n",
            "1875/1875 [==============================] - 15s 8ms/step - loss: 0.0589 - accuracy: 0.9797 - val_loss: 0.4389 - val_accuracy: 0.9155\n"
          ],
          "name": "stdout"
        },
        {
          "output_type": "execute_result",
          "data": {
            "text/plain": [
              "<tensorflow.python.keras.callbacks.History at 0x7fa170aa4b38>"
            ]
          },
          "metadata": {
            "tags": []
          },
          "execution_count": 32
        }
      ]
    },
    {
      "cell_type": "code",
      "metadata": {
        "id": "W5DR0_Skdm0_"
      },
      "source": [
        "hist_info=model_2.history.history"
      ],
      "execution_count": null,
      "outputs": []
    },
    {
      "cell_type": "code",
      "metadata": {
        "id": "4Onyjs5fdq47",
        "colab": {
          "base_uri": "https://localhost:8080/"
        },
        "outputId": "7c793697-bb25-4edd-dd66-e681de4c4f16"
      },
      "source": [
        "pf=pd.DataFrame(hist_info)\n",
        "pf['accuracy'].mean()"
      ],
      "execution_count": null,
      "outputs": [
        {
          "output_type": "execute_result",
          "data": {
            "text/plain": [
              "0.9512253344058991"
            ]
          },
          "metadata": {
            "tags": []
          },
          "execution_count": 38
        }
      ]
    },
    {
      "cell_type": "code",
      "metadata": {
        "colab": {
          "base_uri": "https://localhost:8080/"
        },
        "id": "lptodI2dt9j9",
        "outputId": "92287a89-d260-4861-b2da-b8d8ab525b32"
      },
      "source": [
        "pf['val_accuracy'].mean()"
      ],
      "execution_count": null,
      "outputs": [
        {
          "output_type": "execute_result",
          "data": {
            "text/plain": [
              "0.9087059998512268"
            ]
          },
          "metadata": {
            "tags": []
          },
          "execution_count": 39
        }
      ]
    },
    {
      "cell_type": "code",
      "metadata": {
        "id": "5IbA_1iDd0yV",
        "colab": {
          "base_uri": "https://localhost:8080/",
          "height": 282
        },
        "outputId": "55c7c754-923b-4b1e-8c7e-e0507f77a11a"
      },
      "source": [
        "pf[['accuracy','val_accuracy']].plot.line()"
      ],
      "execution_count": null,
      "outputs": [
        {
          "output_type": "execute_result",
          "data": {
            "text/plain": [
              "<matplotlib.axes._subplots.AxesSubplot at 0x7fa170b12a90>"
            ]
          },
          "metadata": {
            "tags": []
          },
          "execution_count": 40
        },
        {
          "output_type": "display_data",
          "data": {
            "image/png": "[encoded data removed]",
            "text/plain": [
              "<Figure size 432x288 with 1 Axes>"
            ]
          },
          "metadata": {
            "tags": [],
            "needs_background": "light"
          }
        }
      ]
    }
  ]
}