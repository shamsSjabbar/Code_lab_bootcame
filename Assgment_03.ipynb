{
  "nbformat": 4,
  "nbformat_minor": 0,
  "metadata": {
    "colab": {
      "name": "Assgment_03.ipynb",
      "provenance": [],
      "collapsed_sections": [],
      "toc_visible": true
    },
    "kernelspec": {
      "name": "python3",
      "display_name": "Python 3"
    }
  },
  "cells": [
    {
      "cell_type": "markdown",
      "metadata": {
        "id": "PRr5oBT2ug7t"
      },
      "source": [
        "#Load & preprocess"
      ]
    },
    {
      "cell_type": "code",
      "metadata": {
        "id": "zQBtGq8_TYEO"
      },
      "source": [
        "import numpy as np\n",
        "import pandas as pd\n",
        "import matplotlib.pyplot as plt\n",
        "import sklearn\n",
        "from sklearn import linear_model,model_selection,datasets,svm,metrics,neural_network,ensemble,feature_selection "
      ],
      "execution_count": null,
      "outputs": []
    },
    {
      "cell_type": "markdown",
      "metadata": {
        "id": "IPrjVmiiu2t4"
      },
      "source": [
        "##define dataset & define K_fold "
      ]
    },
    {
      "cell_type": "code",
      "metadata": {
        "id": "u6yrAg6wUu4l"
      },
      "source": [
        "x,y=datasets.load_wine(return_X_y=True)"
      ],
      "execution_count": null,
      "outputs": []
    },
    {
      "cell_type": "code",
      "metadata": {
        "id": "bdgzV65_WYMB"
      },
      "source": [
        "k_fold=model_selection.StratifiedShuffleSplit(n_splits=10,random_state=42)"
      ],
      "execution_count": null,
      "outputs": []
    },
    {
      "cell_type": "code",
      "metadata": {
        "colab": {
          "base_uri": "https://localhost:8080/"
        },
        "id": "r-R7nA_c_rVb",
        "outputId": "1bbb5513-e3e4-4952-b26f-582dcbb303a1"
      },
      "source": [
        "type(y)"
      ],
      "execution_count": null,
      "outputs": [
        {
          "output_type": "execute_result",
          "data": {
            "text/plain": [
              "numpy.ndarray"
            ]
          },
          "metadata": {
            "tags": []
          },
          "execution_count": 8
        }
      ]
    },
    {
      "cell_type": "code",
      "metadata": {
        "id": "NQrmBidDaH_8"
      },
      "source": [
        "score_of_each_fold=[]\n",
        "for train_indecies, test_indecies in k_fold.split(x, y):\n",
        "  x_train = x[train_indecies]\n",
        "  y_train = y[train_indecies]\n",
        "  x_test = x[test_indecies]\n",
        "  y_test = y[test_indecies]\n",
        "\n",
        "  svm_model=svm.SVC(random_state=42,C=100000)\n",
        "  svm_model.fit(x_train,y_train)\n",
        "  predict=svm_model.predict(x_test)\n",
        "  accuracy = metrics.accuracy_score(y_test, predict)\n",
        "  r2_score= metrics.r2_score(y_test, predict)\n",
        "\n",
        "  score_of_each_fold.append({\"accuracy\": accuracy,\" r2_score\":  r2_score})"
      ],
      "execution_count": null,
      "outputs": []
    },
    {
      "cell_type": "code",
      "metadata": {
        "id": "NnF_OhbTXMYc",
        "colab": {
          "base_uri": "https://localhost:8080/",
          "height": 343
        },
        "outputId": "76635426-be0a-4c1e-eaa6-637149adb293"
      },
      "source": [
        "display_scores=pd.DataFrame(score_of_each_fold)\n",
        "display_scores"
      ],
      "execution_count": null,
      "outputs": [
        {
          "output_type": "execute_result",
          "data": {
            "text/html": [
              "<div>\n",
              "<style scoped>\n",
              "    .dataframe tbody tr th:only-of-type {\n",
              "        vertical-align: middle;\n",
              "    }\n",
              "\n",
              "    .dataframe tbody tr th {\n",
              "        vertical-align: top;\n",
              "    }\n",
              "\n",
              "    .dataframe thead th {\n",
              "        text-align: right;\n",
              "    }\n",
              "</style>\n",
              "<table border=\"1\" class=\"dataframe\">\n",
              "  <thead>\n",
              "    <tr style=\"text-align: right;\">\n",
              "      <th></th>\n",
              "      <th>accuracy</th>\n",
              "      <th>r2_score</th>\n",
              "    </tr>\n",
              "  </thead>\n",
              "  <tbody>\n",
              "    <tr>\n",
              "      <th>0</th>\n",
              "      <td>0.944444</td>\n",
              "      <td>0.908629</td>\n",
              "    </tr>\n",
              "    <tr>\n",
              "      <th>1</th>\n",
              "      <td>0.944444</td>\n",
              "      <td>0.908629</td>\n",
              "    </tr>\n",
              "    <tr>\n",
              "      <th>2</th>\n",
              "      <td>0.944444</td>\n",
              "      <td>0.908629</td>\n",
              "    </tr>\n",
              "    <tr>\n",
              "      <th>3</th>\n",
              "      <td>0.888889</td>\n",
              "      <td>0.817259</td>\n",
              "    </tr>\n",
              "    <tr>\n",
              "      <th>4</th>\n",
              "      <td>1.000000</td>\n",
              "      <td>1.000000</td>\n",
              "    </tr>\n",
              "    <tr>\n",
              "      <th>5</th>\n",
              "      <td>0.944444</td>\n",
              "      <td>0.908629</td>\n",
              "    </tr>\n",
              "    <tr>\n",
              "      <th>6</th>\n",
              "      <td>0.944444</td>\n",
              "      <td>0.908629</td>\n",
              "    </tr>\n",
              "    <tr>\n",
              "      <th>7</th>\n",
              "      <td>0.888889</td>\n",
              "      <td>0.817259</td>\n",
              "    </tr>\n",
              "    <tr>\n",
              "      <th>8</th>\n",
              "      <td>0.944444</td>\n",
              "      <td>0.908629</td>\n",
              "    </tr>\n",
              "    <tr>\n",
              "      <th>9</th>\n",
              "      <td>0.944444</td>\n",
              "      <td>0.908629</td>\n",
              "    </tr>\n",
              "  </tbody>\n",
              "</table>\n",
              "</div>"
            ],
            "text/plain": [
              "   accuracy   r2_score\n",
              "0  0.944444   0.908629\n",
              "1  0.944444   0.908629\n",
              "2  0.944444   0.908629\n",
              "3  0.888889   0.817259\n",
              "4  1.000000   1.000000\n",
              "5  0.944444   0.908629\n",
              "6  0.944444   0.908629\n",
              "7  0.888889   0.817259\n",
              "8  0.944444   0.908629\n",
              "9  0.944444   0.908629"
            ]
          },
          "metadata": {
            "tags": []
          },
          "execution_count": 5
        }
      ]
    },
    {
      "cell_type": "code",
      "metadata": {
        "colab": {
          "base_uri": "https://localhost:8080/"
        },
        "id": "0rppbYLScyjr",
        "outputId": "c17c075f-9ada-4b01-f259-c6621a23c85e"
      },
      "source": [
        "display_scores.mean()"
      ],
      "execution_count": null,
      "outputs": [
        {
          "output_type": "execute_result",
          "data": {
            "text/plain": [
              "accuracy     0.938889\n",
              " r2_score    0.899492\n",
              "dtype: float64"
            ]
          },
          "metadata": {
            "tags": []
          },
          "execution_count": 6
        }
      ]
    },
    {
      "cell_type": "markdown",
      "metadata": {
        "id": "auyYywAvth50"
      },
      "source": [
        "# grid searching key hyperparametres for SVC"
      ]
    },
    {
      "cell_type": "code",
      "metadata": {
        "id": "uzVKJSVP6Q7_"
      },
      "source": [
        "from sklearn.model_selection import StratifiedShuffleSplit\n",
        "from sklearn.model_selection import GridSearchCV\n",
        "from sklearn.svm import SVC"
      ],
      "execution_count": null,
      "outputs": []
    },
    {
      "cell_type": "markdown",
      "metadata": {
        "id": "fJnUJuEgtrHr"
      },
      "source": [
        "##define dataset & define model and parameters"
      ]
    },
    {
      "cell_type": "code",
      "metadata": {
        "id": "AD3ZCGi3tGwK"
      },
      "source": [
        "X,y =datasets.load_wine(return_X_y=True)\n",
        "model = SVC()\n",
        "kernel = ['poly', 'rbf', 'sigmoid']\n",
        "C = [1000000, 100000, 10000]\n",
        "gamma = ['scale','auto']"
      ],
      "execution_count": null,
      "outputs": []
    },
    {
      "cell_type": "markdown",
      "metadata": {
        "id": "x5DEYzlKt7Ru"
      },
      "source": [
        "##define grid search"
      ]
    },
    {
      "cell_type": "code",
      "metadata": {
        "id": "QF6wpvCos_i7"
      },
      "source": [
        "grid = dict(kernel=kernel,C=C,gamma=gamma)\n",
        "cv =model_selection.StratifiedShuffleSplit(n_splits=10, random_state=42)\n",
        "grid_search = GridSearchCV(estimator=model, param_grid=grid, n_jobs=-1, cv=cv, scoring='accuracy',error_score=0)\n",
        "grid_result = grid_search.fit(X, y)\n"
      ],
      "execution_count": null,
      "outputs": []
    },
    {
      "cell_type": "code",
      "metadata": {
        "colab": {
          "base_uri": "https://localhost:8080/"
        },
        "id": "0dmSbTmws3yi",
        "outputId": "55284bf0-4bef-478c-b766-0d364c6560a4"
      },
      "source": [
        "\n",
        "print(\"Best: %f using %s\" % (grid_result.best_score_, grid_result.best_params_))\n"
      ],
      "execution_count": null,
      "outputs": [
        {
          "output_type": "stream",
          "text": [
            "Best: 0.955556 using {'C': 100000, 'gamma': 'scale', 'kernel': 'poly'}\n"
          ],
          "name": "stdout"
        }
      ]
    },
    {
      "cell_type": "markdown",
      "metadata": {
        "id": "BdxxIORUuJuN"
      },
      "source": [
        "##model after found the best hyperparameters"
      ]
    },
    {
      "cell_type": "code",
      "metadata": {
        "id": "cd9pGsDkdOSs"
      },
      "source": [
        "scores=[]\n",
        "k_fold=model_selection.StratifiedShuffleSplit(n_splits=10,random_state=42)\n",
        "for train_indecies, test_indecies in k_fold.split(x, y):\n",
        "  x_train = x[train_indecies]\n",
        "  y_train = y[train_indecies]\n",
        "  x_test = x[test_indecies]\n",
        "  y_test = y[test_indecies]\n",
        "  svm_model=svm.SVC(random_state=42,C=100000,gamma= 'scale',kernel='poly')\n",
        "  svm_model.fit(x_train,y_train)\n",
        "  predict=svm_model.predict(x_test)\n",
        "  accuracy = metrics.accuracy_score(y_test, predict)\n",
        "  r2_score= metrics.r2_score(y_test, predict)\n",
        "  scores.append({\"accuracy\": accuracy,\" r2_score\":  r2_score})"
      ],
      "execution_count": null,
      "outputs": []
    },
    {
      "cell_type": "code",
      "metadata": {
        "id": "06Fs-IoLSkjd",
        "colab": {
          "base_uri": "https://localhost:8080/",
          "height": 343
        },
        "outputId": "48a6e698-8845-4f5c-86e9-88b9a7737990"
      },
      "source": [
        "df2=pd.DataFrame(scores)\n",
        "df2"
      ],
      "execution_count": null,
      "outputs": [
        {
          "output_type": "execute_result",
          "data": {
            "text/html": [
              "<div>\n",
              "<style scoped>\n",
              "    .dataframe tbody tr th:only-of-type {\n",
              "        vertical-align: middle;\n",
              "    }\n",
              "\n",
              "    .dataframe tbody tr th {\n",
              "        vertical-align: top;\n",
              "    }\n",
              "\n",
              "    .dataframe thead th {\n",
              "        text-align: right;\n",
              "    }\n",
              "</style>\n",
              "<table border=\"1\" class=\"dataframe\">\n",
              "  <thead>\n",
              "    <tr style=\"text-align: right;\">\n",
              "      <th></th>\n",
              "      <th>accuracy</th>\n",
              "      <th>r2_score</th>\n",
              "    </tr>\n",
              "  </thead>\n",
              "  <tbody>\n",
              "    <tr>\n",
              "      <th>0</th>\n",
              "      <td>1.000000</td>\n",
              "      <td>1.000000</td>\n",
              "    </tr>\n",
              "    <tr>\n",
              "      <th>1</th>\n",
              "      <td>0.944444</td>\n",
              "      <td>0.908629</td>\n",
              "    </tr>\n",
              "    <tr>\n",
              "      <th>2</th>\n",
              "      <td>0.944444</td>\n",
              "      <td>0.908629</td>\n",
              "    </tr>\n",
              "    <tr>\n",
              "      <th>3</th>\n",
              "      <td>0.944444</td>\n",
              "      <td>0.908629</td>\n",
              "    </tr>\n",
              "    <tr>\n",
              "      <th>4</th>\n",
              "      <td>0.944444</td>\n",
              "      <td>0.908629</td>\n",
              "    </tr>\n",
              "    <tr>\n",
              "      <th>5</th>\n",
              "      <td>0.944444</td>\n",
              "      <td>0.908629</td>\n",
              "    </tr>\n",
              "    <tr>\n",
              "      <th>6</th>\n",
              "      <td>0.944444</td>\n",
              "      <td>0.908629</td>\n",
              "    </tr>\n",
              "    <tr>\n",
              "      <th>7</th>\n",
              "      <td>0.944444</td>\n",
              "      <td>0.908629</td>\n",
              "    </tr>\n",
              "    <tr>\n",
              "      <th>8</th>\n",
              "      <td>0.944444</td>\n",
              "      <td>0.908629</td>\n",
              "    </tr>\n",
              "    <tr>\n",
              "      <th>9</th>\n",
              "      <td>1.000000</td>\n",
              "      <td>1.000000</td>\n",
              "    </tr>\n",
              "  </tbody>\n",
              "</table>\n",
              "</div>"
            ],
            "text/plain": [
              "   accuracy   r2_score\n",
              "0  1.000000   1.000000\n",
              "1  0.944444   0.908629\n",
              "2  0.944444   0.908629\n",
              "3  0.944444   0.908629\n",
              "4  0.944444   0.908629\n",
              "5  0.944444   0.908629\n",
              "6  0.944444   0.908629\n",
              "7  0.944444   0.908629\n",
              "8  0.944444   0.908629\n",
              "9  1.000000   1.000000"
            ]
          },
          "metadata": {
            "tags": []
          },
          "execution_count": 80
        }
      ]
    },
    {
      "cell_type": "code",
      "metadata": {
        "colab": {
          "base_uri": "https://localhost:8080/"
        },
        "id": "v8GrCrc_wURB",
        "outputId": "7d999e06-3886-4447-bdca-8e1dd55ed8c2"
      },
      "source": [
        "df2.mean()"
      ],
      "execution_count": null,
      "outputs": [
        {
          "output_type": "execute_result",
          "data": {
            "text/plain": [
              "accuracy     0.955556\n",
              " r2_score    0.926904\n",
              "dtype: float64"
            ]
          },
          "metadata": {
            "tags": []
          },
          "execution_count": 81
        }
      ]
    }
  ]
}